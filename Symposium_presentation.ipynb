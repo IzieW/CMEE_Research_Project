{
 "cells": [
  {
   "cell_type": "markdown",
   "id": "2eecc01e",
   "metadata": {
    "slideshow": {
     "slide_type": "slide"
    }
   },
   "source": [
    "# Sensing in self-organising systems: \n",
    "## Exploring the evolutionary conditions for the emergence of \"sensing\" behaviours in Lenia cellular automata\n",
    "2022\n",
    "\n",
    "Izie Wood"
   ]
  },
  {
   "cell_type": "markdown",
   "id": "00323f56",
   "metadata": {
    "slideshow": {
     "slide_type": "slide"
    }
   },
   "source": [
    "## Overview\n",
    "1. Cellular Automata: Emergence, autonomy and mind\n",
    "2. Methods\n",
    "3. Results"
   ]
  },
  {
   "cell_type": "markdown",
   "id": "d748ba7a",
   "metadata": {
    "slideshow": {
     "slide_type": "slide"
    }
   },
   "source": [
    "## Self Organising Systems\n",
    "**Cellular Automata (CA)**: A continuously updating system of cells where the value in each cell is determined by the sum of its neighbouring cells and a local rule.\n",
    "\n",
    "**Conway's Game of Life**: \n",
    "- two-dimensional grid, each cell, $x$, is at zero or one (dead or alive)\n",
    "- Takes the sum of the eight cells bordering ($S^t(x)$)\n",
    "    - If the cell value is at zero, and $S^t(x)$ = 3, cell is updated to one (birth)\n",
    "    - If the cell is at one and $S^t(x)$ = 3 or 4, cell remains at one (survival)\n",
    "    - Otherwise cell is updated to zero (death)"
   ]
  },
  {
   "cell_type": "markdown",
   "id": "85fc1e34",
   "metadata": {
    "slideshow": {
     "slide_type": "slide"
    }
   },
   "source": [
    "If ($x^t=0$) and ($S^t(x)=3$), $x$ updates to 1 (birth)\n",
    "\n",
    "\n",
    "If ($x^t=1$) and ($S^t(x)=3$ or $4$), $x$ remains at 1 (survival)\n",
    "\n",
    "Otherwise, x updates to 0 (death)"
   ]
  },
  {
   "cell_type": "code",
   "execution_count": null,
   "id": "febfc86f",
   "metadata": {},
   "outputs": [],
   "source": []
  }
 ],
 "metadata": {
  "celltoolbar": "Slideshow",
  "kernelspec": {
   "display_name": "Python 3 (ipykernel)",
   "language": "python",
   "name": "python3"
  },
  "language_info": {
   "codemirror_mode": {
    "name": "ipython",
    "version": 3
   },
   "file_extension": ".py",
   "mimetype": "text/x-python",
   "name": "python",
   "nbconvert_exporter": "python",
   "pygments_lexer": "ipython3",
   "version": "3.8.10"
  }
 },
 "nbformat": 4,
 "nbformat_minor": 5
}
